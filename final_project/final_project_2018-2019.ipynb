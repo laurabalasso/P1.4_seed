{
 "cells": [
  {
   "cell_type": "markdown",
   "metadata": {},
   "source": [
    "# Final project, Numerical Analysis 2018-2019\n",
    "\n",
    "\n",
    "## Project description\n",
    "\n",
    "In this project, we would like to compare the performance of some embarassingly simple algorithms to solve a classification problem based on the MNIST database. \n",
    "\n",
    "The abstract aim of the program is to write a function:\n",
    "\n",
    "```\n",
    "result = classify(image)\n",
    "```\n",
    "\n",
    "that takes as input a small grey scale image of a hand-written digit (from the MNIST database), and returns the digit corresponding to the content of the image.\n",
    "\n",
    "An example of the images we'll be working on is the following:\n",
    "\n",
    "![mnist examples](https://m-alcu.github.io/assets/mnist.png)\n",
    "\n",
    "Some background on the MNIST database (from wikipedia):\n",
    "\n",
    "\n",
    "## MNIST database\n",
    "\n",
    "*From Wikipedia, the free encyclopedia*\n",
    "\n",
    "The MNIST database (Modified National Institute of Standards and Technology database) is a large database of handwritten digits that is commonly used for training various image processing systems. The database is also widely used for training and testing in the field of machine learning. It was created by \"re-mixing\" the samples from NIST's original datasets. The creators felt that since NIST's training dataset was taken from American Census Bureau employees, while the testing dataset was taken from American high school students, it was not well-suited for machine learning experiments. Furthermore, the black and white images from NIST were normalized to fit into a 28x28 pixel bounding box and anti-aliased, which introduced grayscale levels.\n",
    "\n",
    "## MNIST sample images.\n",
    "\n",
    "The MNIST database contains 60,000 training images and 10,000 testing images. Half of the training set and half of the test set were taken from NIST's training dataset, while the other half of the training set and the other half of the test set were taken from NIST's testing dataset. There have been a number of scientific papers on attempts to achieve the lowest error rate; one paper, using a hierarchical system of convolutional neural networks, manages to get an error rate on the MNIST database of 0.23%. The original creators of the database keep a list of some of the methods tested on it. In their original paper, they use a support vector machine to get an error rate of 0.8%. An extended dataset similar to MNIST called EMNIST has been published in 2017, which contains 240,000 training images, and 40,000 testing images of handwritten digits and characters.\n",
    "\n",
    "## Algorithm\n",
    "\n",
    "We start by defining the distance between two images. Ideally, a distance function between two images is zero when the images are the same, and greater than zero when the images are different. \n",
    "\n",
    "The bigger the distance, the more different the images should be. Ideally, the distance between an image of the number `9` should be closer to an image of the number `8` than to an image of the number `1` (the digits `9` and `8`, as images, differ by the fact that the first has one closed loop, while the second has two closed loops, while the digit `1` is mostly a straight line). Two different images representing the same number should be even closer (i.e., the distance function should return a \"small\" number).\n",
    "\n",
    "Given a distance and a training set of images for which we know everything, the simplest algorithm we can think of to classify an image `z`, is the following: given a set of train images (`x_train`) for which we know the digit they represent (`y_train`), measure the distance between `z` and all images in `x_train`, and classify the image `z` to represent the same digit of the image that is closest to `z` in `x_train`:\n",
    "\n",
    "Parameters of the algorithm:\n",
    "\n",
    "- `x_train`\n",
    "- `y_train`\n",
    "- a distance function `dist`  \n",
    "\n",
    "Input of the function\n",
    "\n",
    "- `z`\n",
    "\n",
    "Output of the function\n",
    "\n",
    "- `digit`\n",
    "\n",
    "where \n",
    "\n",
    "```\n",
    "def classify(z):\n",
    "    all_distances = array([dist(x, z) for x in x_train])\n",
    "    digit = y_train[argmin(all_distances)]\n",
    "    return digit\n",
    "```\n",
    "\n",
    "We will experiment with different distances, and we will try to improve the algorithm above in a step by step fashon.\n",
    "\n",
    "## Data description\n",
    "\n",
    "Each image in the MNIST dataset represents a hand written digit, in the form of a matrix of `28x28` values between zero and one, representing gray scale values (zero = white, one = black).\n",
    "\n",
    "We use an array of `60.000x28x28` floating point values to collect all training images, and an array of `60.000` digits containing the (correct) value of the training digits (between 0 and 9 inclusive).\n",
    "\n",
    "The testing images are instead collected into two arrays of size `10.000x28x28` and `10.0000` respectively."
   ]
  },
  {
   "cell_type": "code",
   "execution_count": 1,
   "metadata": {},
   "outputs": [
    {
     "name": "stdout",
     "output_type": "stream",
     "text": [
      "Populating the interactive namespace from numpy and matplotlib\n",
      "(60000, 28, 28) (60000,)\n",
      "(10000, 28, 28) (10000,)\n"
     ]
    }
   ],
   "source": [
    "%pylab inline\n",
    "\n",
    "# # input image dimensions\n",
    "img_rows, img_cols = 28, 28\n",
    "\n",
    "\n",
    "arc = load('mnist.npz')\n",
    "\n",
    "x_train = arc['arr_0']\n",
    "y_train = arc['arr_1']\n",
    "x_test  = arc['arr_2']\n",
    "y_test  = arc['arr_3']\n",
    "\n",
    "print(x_train.shape, y_train.shape)\n",
    "print(x_test.shape, y_test.shape)"
   ]
  },
  {
   "cell_type": "markdown",
   "metadata": {},
   "source": [
    "# Plotting one image\n",
    "\n",
    "How do we plot the images? `pyplot`, which has been imported by the first line of the previous cell, contains a command called `imshow`, that can be used to plot images. \n",
    "\n",
    "In this case we know it is a greyscale image, with zero representing white and one representing black, so we use a colormap that goes from white to black, i.e., `gray_r` where `_r` stands for reversed. "
   ]
  },
  {
   "cell_type": "code",
   "execution_count": 2,
   "metadata": {},
   "outputs": [
    {
     "data": {
      "image/png": "[encoded data removed]",
      "text/plain": [
       "<Figure size 432x288 with 1 Axes>"
      ]
     },
     "metadata": {
      "needs_background": "light"
     },
     "output_type": "display_data"
    }
   ],
   "source": [
    "# Show image number 15 and write in the title what digit it should correspond to\n",
    "N=15\n",
    "imshow(x_train[N], cmap='gray_r')\n",
    "_ = title('Hand written digit '+str(y_train[N]))"
   ]
  },
  {
   "cell_type": "markdown",
   "metadata": {},
   "source": [
    "**IF YOU DON'T HAVE ENOUGH COMPUTATIONAL POWER, RUN THE EXERCISES ONLY UP TO WHAT IS SUSTAINABLE FOR YOUR PC**\n",
    "\n",
    "General guidelines:\n",
    "\n",
    "- Time all functions you construct, and try to make them run as fast as possible by precomputing anything that can be precomputed\n",
    "- Extra points are gained if you reduce the complexity of the given algorithms in any possible way, for example by exploiting linearity, etc.\n",
    "- If something takes too long to execute, make sure you time it on a smaller set of input data, and give estimates of how long it would take to run the full thing (without actually running it). Plot only the results you manage to run on your PC.\n",
    "\n"
   ]
  },
  {
   "cell_type": "code",
   "execution_count": 3,
   "metadata": {},
   "outputs": [],
   "source": [
    "import numpy as np\n",
    "\n",
    "from timeit import default_timer as timer"
   ]
  },
  {
   "cell_type": "markdown",
   "metadata": {},
   "source": [
    "# Assignment 1\n",
    "\n",
    "Implement the following distance functions\n",
    "\n",
    "- d_infty $$ d_{\\infty}(a,b) := \\max_{i,j} |b_{ij}-a_{ij}|$$\n",
    "- d_one $$ d_1(a,b) := \\sum_{i,j} |b_{ij}-a_{ij}|$$\n",
    "- d_two $$ d_2(a,b) := \\sqrt{\\sum_{i,j} |b_{ij}-a_{ij}|^2}$$\n",
    "\n",
    "that take two `(28,28)` images in input, and return a non-negative number.\n"
   ]
  },
  {
   "cell_type": "code",
   "execution_count": 4,
   "metadata": {},
   "outputs": [],
   "source": [
    "def d_infty(a, b):\n",
    "    return np.max(np.abs(b - a))\n",
    "\n",
    "def d_one(a, b):\n",
    "    return np.sum(np.abs(b - a))\n",
    "    \n",
    "def d_two(a, b):\n",
    "    return sqrt(np.sum((b - a)**2))\n",
    "    "
   ]
  },
  {
   "cell_type": "markdown",
   "metadata": {},
   "source": [
    "# Assignment 2\n",
    "\n",
    "Write a function that, given a number `N`, and a distance function `dist`, computes the distance matrix D of shape `(N,N)` between the first `N` entries of `x_train`:\n",
    "\n",
    "```\n",
    "D[i,j] = dist(x_train[i], x_train[j])\n",
    "```\n",
    "\n",
    "performing the **minimum** number of operations (i.e., avoid computing a distance if it has already been computed before, i.e., keep in mind that dist(a,b) = dist(b,a)).\n",
    "\n"
   ]
  },
  {
   "cell_type": "code",
   "execution_count": 5,
   "metadata": {},
   "outputs": [],
   "source": [
    "def distance_matrix(N, dist, data):\n",
    "    D = np.zeros((N,N))\n",
    "    for i in range(N):\n",
    "        for j in range(i):\n",
    "            D[i,j] = dist(data[i], data[j])\n",
    "    \n",
    "    return D + D.T"
   ]
  },
  {
   "cell_type": "markdown",
   "metadata": {},
   "source": [
    "# Assignment 3\n",
    "\n",
    "Compute and plot the three distance matrices\n",
    "\n",
    "- Dinfty\n",
    "- D1\n",
    "- D2\n",
    "\n",
    "for the first 100 images of the training set, using the function `imshow` applied to the three matrices\n",
    "\n"
   ]
  },
  {
   "cell_type": "code",
   "execution_count": 6,
   "metadata": {},
   "outputs": [
    {
     "name": "stdout",
     "output_type": "stream",
     "text": [
      "Time elapsed: 0.07701570599999741\n"
     ]
    }
   ],
   "source": [
    "start = timer()\n",
    "D_infty = distance_matrix(100, d_infty, x_train)\n",
    "end = timer()\n",
    "\n",
    "print(\"Time elapsed:\", end - start)\n"
   ]
  },
  {
   "cell_type": "code",
   "execution_count": 7,
   "metadata": {},
   "outputs": [
    {
     "data": {
      "image/png": "[encoded data removed]",
      "text/plain": [
       "<Figure size 432x288 with 1 Axes>"
      ]
     },
     "metadata": {
      "needs_background": "light"
     },
     "output_type": "display_data"
    }
   ],
   "source": [
    "imshow(D_infty, cmap=\"gray_r\")\n",
    "_ = title('Infinity norm distance matrix')"
   ]
  },
  {
   "cell_type": "code",
   "execution_count": 8,
   "metadata": {},
   "outputs": [
    {
     "name": "stdout",
     "output_type": "stream",
     "text": [
      "Time elapsed: 0.07372925100000316\n"
     ]
    }
   ],
   "source": [
    "start = timer()\n",
    "D1 = distance_matrix(100, d_one, x_train)\n",
    "end = timer()\n",
    "\n",
    "print(\"Time elapsed:\", end - start)\n"
   ]
  },
  {
   "cell_type": "code",
   "execution_count": 9,
   "metadata": {},
   "outputs": [
    {
     "data": {
      "image/png": "[encoded data removed]",
      "text/plain": [
       "<Figure size 432x288 with 1 Axes>"
      ]
     },
     "metadata": {
      "needs_background": "light"
     },
     "output_type": "display_data"
    }
   ],
   "source": [
    "imshow(D1, cmap=\"gray_r\")\n",
    "_ = title('L1 norm distance matrix')"
   ]
  },
  {
   "cell_type": "code",
   "execution_count": 10,
   "metadata": {},
   "outputs": [
    {
     "name": "stdout",
     "output_type": "stream",
     "text": [
      "Time elapsed: 0.09443027899999379\n"
     ]
    }
   ],
   "source": [
    "start = timer()\n",
    "D2 = distance_matrix(100, d_two, x_train)\n",
    "end=timer()\n",
    "print('Time elapsed:', end - start)\n"
   ]
  },
  {
   "cell_type": "code",
   "execution_count": 11,
   "metadata": {},
   "outputs": [
    {
     "data": {
      "image/png": "[encoded data removed]",
      "text/plain": [
       "<Figure size 432x288 with 1 Axes>"
      ]
     },
     "metadata": {
      "needs_background": "light"
     },
     "output_type": "display_data"
    }
   ],
   "source": [
    "imshow(D2, cmap=\"gray_r\")\n",
    "_ = title('L2 norm distance matrix')"
   ]
  },
  {
   "cell_type": "markdown",
   "metadata": {},
   "source": [
    "# Assignment 4\n",
    "\n",
    "Using only a distance matrix, apply the algorithm described above and compute the efficency of the algorithm, i.e., write a function that:\n",
    "\n",
    "Given a distance matrix with shape `(N,N)`, constructed on the first `N` samples of the `x_train` set, count the number of failures of the **leave one out** strategy, i.e., \n",
    "\n",
    "- set `error_counter` to zero\n",
    "\n",
    "- for every line `i` of the matrix:\n",
    "\n",
    "    - find the index `j` (different from `i`) for which `D[i,k] >= D[i,j]` for all `k` different from `i` and `j`.\n",
    "\n",
    "    - if `y_train[j]` is different from `y_train[i]`, increment by one `error_counter`\n",
    "\n",
    "- return the error: error_counter/N\n",
    "\n",
    "- apply the function above to the 3 different distance matrices you computed before"
   ]
  },
  {
   "cell_type": "code",
   "execution_count": 12,
   "metadata": {},
   "outputs": [],
   "source": [
    "def error_rate(D, N):\n",
    "    \n",
    "    D = D[0:N, 0:N] ## allows so use to compute the matrix D only once \n",
    "    error_counter = 0\n",
    "    D_max = D.max() + 1\n",
    "    \n",
    "    for i in range(N):\n",
    "        D[i][i] = D_max\n",
    "        j = np.argmin(D[i])\n",
    "        if y_train[j] != y_train[i]:\n",
    "            error_counter += 1\n",
    "        \n",
    "    return error_counter / N"
   ]
  },
  {
   "cell_type": "code",
   "execution_count": 13,
   "metadata": {},
   "outputs": [
    {
     "name": "stdout",
     "output_type": "stream",
     "text": [
      "Time elapsed: 0.0013517399999898316\n"
     ]
    }
   ],
   "source": [
    "start=timer()\n",
    "E_inf = error_rate(D_infty, 100)\n",
    "end=timer()\n",
    "print('Time elapsed:', end - start)\n"
   ]
  },
  {
   "cell_type": "code",
   "execution_count": 14,
   "metadata": {},
   "outputs": [
    {
     "name": "stdout",
     "output_type": "stream",
     "text": [
      "Time elapsed: 0.0012924340000211032\n"
     ]
    }
   ],
   "source": [
    "start=timer()\n",
    "E1 = error_rate(D1, 100)\n",
    "end=timer()\n",
    "print('Time elapsed:', end - start)"
   ]
  },
  {
   "cell_type": "code",
   "execution_count": 15,
   "metadata": {},
   "outputs": [
    {
     "name": "stdout",
     "output_type": "stream",
     "text": [
      "Time elapsed: 0.0013551360000008117\n"
     ]
    }
   ],
   "source": [
    "start=timer()\n",
    "E2 = error_rate(D2, 100)\n",
    "end=timer()\n",
    "print('Time elapsed:', end - start)"
   ]
  },
  {
   "cell_type": "code",
   "execution_count": 16,
   "metadata": {},
   "outputs": [
    {
     "data": {
      "text/plain": [
       "(0.58, 0.17, 0.17)"
      ]
     },
     "execution_count": 16,
     "metadata": {},
     "output_type": "execute_result"
    }
   ],
   "source": [
    "E_inf, E1, E2\n"
   ]
  },
  {
   "cell_type": "markdown",
   "metadata": {},
   "source": [
    "# Assignment 5\n",
    "\n",
    "Run the algorithm implemented above for N=100,200,400,800,1600 on the three different distances, and plot the three error rate as a function of N (i.e., compute the distance matrix, and compute the efficiency associated to the distance matrix).\n",
    "\n",
    "You should get an error like:\n",
    "```\n",
    "[[ 0.58      0.17      0.17    ]\n",
    " [ 0.52      0.145     0.135   ]\n",
    " [ 0.4425    0.15      0.135   ]\n",
    " [ 0.4       0.145     0.12875 ]\n",
    " [ 0.369375  0.1025    0.09375 ]]\n",
    "```\n",
    "where each column represents a different norm.\n",
    "\n",
    "** In the next assignments, optional points are given if you manage to make the algorithm run faster, by pre-computing everything you can precompute in advance **\n",
    "\n"
   ]
  },
  {
   "cell_type": "code",
   "execution_count": 27,
   "metadata": {},
   "outputs": [],
   "source": [
    "N = [100, 200, 400, 800, 1600]\n",
    "dist = [d_infty, d_one, d_two]"
   ]
  },
  {
   "cell_type": "code",
   "execution_count": 28,
   "metadata": {},
   "outputs": [],
   "source": [
    "## precompute the 3 distance matrices for the max value of N\n",
    "D = [distance_matrix(max(N), d, x_train) for d in dist ]"
   ]
  },
  {
   "cell_type": "code",
   "execution_count": 29,
   "metadata": {},
   "outputs": [],
   "source": [
    "## compute the error rate of the 3 matrices for different values of N\n",
    "start=timer()\n",
    "error_matrix = [[error_rate(d, n) for d in D] for n in N]\n",
    "end=timer()"
   ]
  },
  {
   "cell_type": "code",
   "execution_count": 30,
   "metadata": {},
   "outputs": [
    {
     "name": "stdout",
     "output_type": "stream",
     "text": [
      "Time elapsed: 0.06135408999989522\n"
     ]
    },
    {
     "data": {
      "text/plain": [
       "[[0.58, 0.17, 0.17],\n",
       " [0.52, 0.145, 0.135],\n",
       " [0.4425, 0.15, 0.135],\n",
       " [0.4, 0.145, 0.12875],\n",
       " [0.369375, 0.1025, 0.09375]]"
      ]
     },
     "execution_count": 30,
     "metadata": {},
     "output_type": "execute_result"
    }
   ],
   "source": [
    "print('Time elapsed:', end - start)\n",
    "error_matrix"
   ]
  },
  {
   "cell_type": "code",
   "execution_count": 31,
   "metadata": {},
   "outputs": [
    {
     "data": {
      "image/png": "[encoded data removed]",
      "text/plain": [
       "<Figure size 432x288 with 1 Axes>"
      ]
     },
     "metadata": {
      "needs_background": "light"
     },
     "output_type": "display_data"
    }
   ],
   "source": [
    "plot(N, error_matrix)\n",
    "_ = legend([\"Infinity norm\",\"L1 norm\",\"L2 norm\"])\n",
    "_ = xlabel(\"Matrix size\")\n",
    "_ = ylabel(\"Error rate\")\n",
    "_ = title(\"error rates using different distances\\n\")\n",
    "grid()"
   ]
  },
  {
   "cell_type": "markdown",
   "metadata": {},
   "source": [
    "# Assignment 6\n",
    "\n",
    "In principle, it should be possible to decrease the error by using a better norm. From the table above, it is clear that the L2 distance works better than the L1 distance, which works better than the Linfty distance.\n",
    "\n",
    "However, *none of these distances exploit the fact that the image is a two-dimensional object*, and that there is information also in the **neighboring** information of the pixels. \n",
    "\n",
    "One way to exploit this, is to interpret the image as a continuous function with values between zero and one, defined on a square domain $\\Omega=[0,27]\\times[0,27]$.\n",
    "\n",
    "$$ f: \\Omega \\to R $$\n",
    "\n",
    "- Implement a function that computes an approximation of the $H^1$ norm distance on the renormalized images. Given two images $f_1$ and $f_2$\n",
    "    - Compute $$a = \\frac{f_1}{\\int_\\Omega f_1}$$, $$b=\\frac{f_2}{\\int_\\Omega f_2}$$\n",
    "    - Define the $H^1$ distance as\n",
    "    $$\n",
    "    d_{H^1}(f_1,f_2) := \\sqrt{\\int_\\Omega |\\nabla(a-b)|^2+ (a-b)^2}\n",
    "    $$\n",
    "    using the algorithm you prefer (or the library you prefer) to compute the gradients and the integrals. Notice that $\\nabla f = (\\partial f/\\partial x, \\partial f/\\partial y)$ is a vector valued function, and $|\\nabla g|^2 := (\\partial g/\\partial x)^2 + (\\partial g/\\partial y)^2$\n",
    "\n",
    "- Compute the distance matrix and the efficiency for this distance for N=100,200,400,800,1600\n",
    "\n"
   ]
  },
  {
   "cell_type": "code",
   "execution_count": 32,
   "metadata": {},
   "outputs": [],
   "source": [
    "def d_H1(f1,f2):\n",
    "    ''' H1 distance between f1 and f2 '''\n",
    "    a = f1/np.sum(f1)\n",
    "    b = f2/np.sum(f2)\n",
    "    grad = gradient(a - b)\n",
    "    grad_squared_norm = grad[0]**2 + grad[1]**2\n",
    "    return sqrt(np.sum(grad_squared_norm + (a-b)**2))"
   ]
  },
  {
   "cell_type": "code",
   "execution_count": 33,
   "metadata": {},
   "outputs": [
    {
     "name": "stdout",
     "output_type": "stream",
     "text": [
      "total time elapsed: 0.014494848000140337\n"
     ]
    }
   ],
   "source": [
    "start=timer()\n",
    "D = distance_matrix(max(N),d_H1, x_train)\n",
    "end=timer()\n",
    "\n",
    "print(\"total time elapsed:\", end - start)\n",
    "        "
   ]
  },
  {
   "cell_type": "code",
   "execution_count": null,
   "metadata": {},
   "outputs": [],
   "source": [
    "start = timer()\n",
    "error_H1 = [error_rate(D, n) for n in N]\n",
    "end = timer()\n",
    "\n",
    "print(\"total time elapsed:\", end - start)"
   ]
  },
  {
   "cell_type": "code",
   "execution_count": 34,
   "metadata": {},
   "outputs": [
    {
     "data": {
      "text/plain": [
       "[0.23, 0.175, 0.145, 0.12125, 0.099375]"
      ]
     },
     "execution_count": 34,
     "metadata": {},
     "output_type": "execute_result"
    }
   ],
   "source": [
    "error_H1"
   ]
  },
  {
   "cell_type": "code",
   "execution_count": 36,
   "metadata": {},
   "outputs": [
    {
     "data": {
      "text/plain": [
       "[[0.58, 0.17, 0.17, 0.23, 0.23],\n",
       " [0.52, 0.145, 0.135, 0.175, 0.175],\n",
       " [0.4425, 0.15, 0.135, 0.145, 0.145],\n",
       " [0.4, 0.145, 0.12875, 0.12125, 0.12125],\n",
       " [0.369375, 0.1025, 0.09375, 0.099375, 0.099375]]"
      ]
     },
     "execution_count": 36,
     "metadata": {},
     "output_type": "execute_result"
    }
   ],
   "source": [
    "for i in range(len(error_matrix)):\n",
    "     error_matrix[i].append(error_H1[i])\n",
    "error_matrix"
   ]
  },
  {
   "cell_type": "code",
   "execution_count": 38,
   "metadata": {},
   "outputs": [
    {
     "data": {
      "image/png": "[encoded data removed]",
      "text/plain": [
       "<Figure size 432x288 with 1 Axes>"
      ]
     },
     "metadata": {
      "needs_background": "light"
     },
     "output_type": "display_data"
    }
   ],
   "source": [
    "plot(N, error_matrix)\n",
    "_ = legend([\"Infinity norm\",\"L1 norm\",\"L2 norm\",\"H1 norm\"])\n",
    "_ = xlabel(\"Matrix size\")\n",
    "_ = ylabel(\"Error rate\")\n",
    "_ = title(\"error rates using different distances\\n\")\n",
    "grid()"
   ]
  },
  {
   "cell_type": "markdown",
   "metadata": {},
   "source": [
    "## Assignment 7\n",
    "\n",
    "An even better improvement on the previous distance function is given by the following algorithm\n",
    "\n",
    "- Given two images $f1$ and $f2$:\n",
    "    - Compute $$a = \\frac{f_1}{\\int_\\Omega f_1}$$, $$b=\\frac{f_2}{\\int_\\Omega f_2}$$\n",
    "    - Solve \n",
    "    $$\n",
    "    -\\Delta \\phi = a - b \\qquad \\text{ in } \\Omega\n",
    "    $$\n",
    "    $$\n",
    "    \\phi = 0 \\text{ on } \\partial\\Omega\n",
    "    $$\n",
    "    - Define the *Monge Ampere* distance\n",
    "    $$\n",
    "    d_{MA}(f_1,f_2) = \\int_\\Omega (a+b)|\\nabla \\phi|^2\n",
    "    $$\n",
    "\n",
    "- Compute the distance matrix and the efficiency for this distance for N=100,200,400,800,1600"
   ]
  },
  {
   "cell_type": "code",
   "execution_count": 39,
   "metadata": {},
   "outputs": [],
   "source": [
    "from scipy import linalg "
   ]
  },
  {
   "cell_type": "code",
   "execution_count": 40,
   "metadata": {},
   "outputs": [],
   "source": [
    "## dafining the laplacian \n",
    "\n",
    "n = len(x_train[0])\n",
    "\n",
    "A = zeros((n,n,n,n))\n",
    "\n",
    "for i in range(n):\n",
    "    for j in range(n):\n",
    "        A[i,j,i,j] = -4\n",
    "        if i < n-1:\n",
    "            A[i,j,i+1,j  ] = 1\n",
    "            A[j,i,j  ,i+1] = 1\n",
    "        if i > 0:\n",
    "            A[i,j,i-1,j  ] = 1\n",
    "            A[j,i,j  ,i-1] = 1\n"
   ]
  },
  {
   "cell_type": "code",
   "execution_count": 41,
   "metadata": {},
   "outputs": [],
   "source": [
    "A = A.reshape((n*n,n*n))"
   ]
  },
  {
   "cell_type": "code",
   "execution_count": 42,
   "metadata": {},
   "outputs": [],
   "source": [
    "A[0,:]=0\n",
    "A[:,0] = 0\n",
    "A[0,0] = 1\n",
    "\n",
    "A[-1,:] = 0\n",
    "A[:,-1] = 0\n",
    "A[-1,-1] = 1"
   ]
  },
  {
   "cell_type": "code",
   "execution_count": 44,
   "metadata": {},
   "outputs": [],
   "source": [
    "bound_x = x_train\n",
    "\n",
    "for i in range(len(x_train)):\n",
    "        bound_x[i,0,:] = bound_x[i,:, 0] = 0"
   ]
  },
  {
   "cell_type": "code",
   "execution_count": 45,
   "metadata": {},
   "outputs": [],
   "source": [
    "def slow_d_MA(f1, f2):\n",
    "    a = f1/sum(f1)\n",
    "    b = f2/sum(f2)\n",
    "    f = a-b\n",
    "    f[0,:] = f[:,0] = 0\n",
    "    F = f.reshape((n*n))\n",
    "    PHI = np.linalg.solve(A,F)\n",
    "    phi = PHI.reshape((n,n))\n",
    "    grad = np.square(gradient(phi)) \n",
    "    return sum((a+b)*grad)"
   ]
  },
  {
   "cell_type": "code",
   "execution_count": 46,
   "metadata": {},
   "outputs": [
    {
     "name": "stdout",
     "output_type": "stream",
     "text": [
      "0.24\n",
      "elapsed time 50.16042626700005\n"
     ]
    }
   ],
   "source": [
    "start = timer()\n",
    "\n",
    "D_slow = distance_matrix(100,slow_d_MA, bound_x)\n",
    "print(error_rate(D_slow, 100))\n",
    "\n",
    "end = timer()\n",
    "\n",
    "print('elapsed time', end - start)"
   ]
  },
  {
   "cell_type": "markdown",
   "metadata": {},
   "source": [
    "50 sec to compute the distance matrix with N=100.\n",
    "Would take more or less 1550 seconds to make the computations on each value of N.\n",
    "\n",
    "I tried another approach."
   ]
  },
  {
   "cell_type": "code",
   "execution_count": 47,
   "metadata": {},
   "outputs": [],
   "source": [
    "from scipy.sparse import csc_matrix\n",
    "from scipy.sparse.linalg import splu"
   ]
  },
  {
   "cell_type": "code",
   "execution_count": 48,
   "metadata": {},
   "outputs": [],
   "source": [
    "operator = splu(csc_matrix(A)) \n",
    "\n",
    "def d_MA(f1, f2):\n",
    "    a = f1/sum(f1)\n",
    "    b = f2/sum(f2)\n",
    "    F = (a-b).reshape((n*n))\n",
    "    PHI = operator.solve(F)\n",
    "    phi = PHI.reshape((n,n))\n",
    "    grad = np.gradient(phi)\n",
    "    grad_sq = np.square(grad)\n",
    "    return sum((a+b)*grad_sq)"
   ]
  },
  {
   "cell_type": "code",
   "execution_count": 49,
   "metadata": {},
   "outputs": [
    {
     "name": "stdout",
     "output_type": "stream",
     "text": [
      "0.24\n",
      "elapsed time 1.1466151839999839\n"
     ]
    }
   ],
   "source": [
    "start = timer()\n",
    "\n",
    "D_MA = distance_matrix(100, d_MA, bound_x)\n",
    "print(error_rate(medium, 100))\n",
    "\n",
    "end = timer()\n",
    "\n",
    "print('elapsed time', end - start)"
   ]
  },
  {
   "cell_type": "markdown",
   "metadata": {},
   "source": [
    "It will take around 300 seconds for the complete computation."
   ]
  },
  {
   "cell_type": "code",
   "execution_count": 58,
   "metadata": {},
   "outputs": [
    {
     "name": "stdout",
     "output_type": "stream",
     "text": [
      "elapsed time 281.9748717140001\n",
      "elapsed time 0.014223038000181987\n"
     ]
    }
   ],
   "source": [
    "start=timer()\n",
    "D_MA = distance_matrix(max(N), d_MA, bound_x)\n",
    "end=timer()\n",
    "print('elapsed time', end - start)\n",
    "\n",
    "start = timer()\n",
    "error_MA = [error_rate(D_MA, n) for n in N]\n",
    "end = timer()\n",
    "\n",
    "print('elapsed time', end - start)"
   ]
  },
  {
   "cell_type": "code",
   "execution_count": 53,
   "metadata": {},
   "outputs": [
    {
     "data": {
      "text/plain": [
       "[0.24, 0.2, 0.145, 0.12625, 0.12375]"
      ]
     },
     "execution_count": 53,
     "metadata": {},
     "output_type": "execute_result"
    }
   ],
   "source": [
    "error_MA"
   ]
  },
  {
   "cell_type": "code",
   "execution_count": 54,
   "metadata": {},
   "outputs": [
    {
     "data": {
      "text/plain": [
       "[[0.58, 0.17, 0.17, 0.23, 0.23, 0.24],\n",
       " [0.52, 0.145, 0.135, 0.175, 0.175, 0.2],\n",
       " [0.4425, 0.15, 0.135, 0.145, 0.145, 0.145],\n",
       " [0.4, 0.145, 0.12875, 0.12125, 0.12125, 0.12625],\n",
       " [0.369375, 0.1025, 0.09375, 0.099375, 0.099375, 0.12375]]"
      ]
     },
     "execution_count": 54,
     "metadata": {},
     "output_type": "execute_result"
    }
   ],
   "source": [
    "for i in range(len(error_matrix)):\n",
    "     error_matrix[i].append(error_MA[i])\n",
    "error_matrix"
   ]
  },
  {
   "cell_type": "code",
   "execution_count": 57,
   "metadata": {},
   "outputs": [
    {
     "data": {
      "image/png": "[encoded data removed]",
      "text/plain": [
       "<Figure size 432x288 with 1 Axes>"
      ]
     },
     "metadata": {
      "needs_background": "light"
     },
     "output_type": "display_data"
    }
   ],
   "source": [
    "plot(N, error_matrix)\n",
    "_ = legend([\"Infinity norm\",\"L1\",\"L2\",\"H1\",\"MA\"])\n",
    "_ = xlabel(\"Matrix size\")\n",
    "_ = ylabel(\"Error rate\")\n",
    "_ = title(\"Error rates using different distances\\n\")\n",
    "grid()"
   ]
  }
 ],
 "metadata": {
  "kernelspec": {
   "display_name": "Python 3",
   "language": "python",
   "name": "python3"
  },
  "language_info": {
   "codemirror_mode": {
    "name": "ipython",
    "version": 3
   },
   "file_extension": ".py",
   "mimetype": "text/x-python",
   "name": "python",
   "nbconvert_exporter": "python",
   "pygments_lexer": "ipython3",
   "version": "3.7.1"
  }
 },
 "nbformat": 4,
 "nbformat_minor": 2
}
